{
 "cells": [
  {
   "cell_type": "markdown",
   "metadata": {},
   "source": [
    "# Kickstarter Trend Analysis"
   ]
  },
  {
   "cell_type": "code",
   "execution_count": 1,
   "metadata": {},
   "outputs": [],
   "source": [
    "import pandas as pd\n",
    "from time import sleep\n",
    "from time import time\n",
    "from random import randint\n",
    "from IPython.core.display import clear_output\n",
    "import matplotlib.pyplot as plt\n",
    "%matplotlib inline\n",
    "import re\n",
    "from random import randint\n",
    "from datetime import datetime,date\n",
    "from numpy import nan as Nan"
   ]
  },
  {
   "cell_type": "markdown",
   "metadata": {},
   "source": [
    "### Load DataFrame from CSV"
   ]
  },
  {
   "cell_type": "code",
   "execution_count": 2,
   "metadata": {},
   "outputs": [],
   "source": [
    "df = pd.read_csv('kickstarter_tech_post_nlp_db',sep='\\t')\n",
    "#df.head()"
   ]
  },
  {
   "cell_type": "markdown",
   "metadata": {},
   "source": [
    "## 1) Preliminary Data Analysis"
   ]
  },
  {
   "cell_type": "markdown",
   "metadata": {},
   "source": [
    "#### Pledged Distribution"
   ]
  },
  {
   "cell_type": "code",
   "execution_count": 3,
   "metadata": {},
   "outputs": [
    {
     "data": {
      "text/html": [
       "<div>\n",
       "<style scoped>\n",
       "    .dataframe tbody tr th:only-of-type {\n",
       "        vertical-align: middle;\n",
       "    }\n",
       "\n",
       "    .dataframe tbody tr th {\n",
       "        vertical-align: top;\n",
       "    }\n",
       "\n",
       "    .dataframe thead th {\n",
       "        text-align: right;\n",
       "    }\n",
       "</style>\n",
       "<table border=\"1\" class=\"dataframe\">\n",
       "  <thead>\n",
       "    <tr style=\"text-align: right;\">\n",
       "      <th></th>\n",
       "      <th>count</th>\n",
       "      <th>mean</th>\n",
       "      <th>std</th>\n",
       "      <th>min</th>\n",
       "      <th>25%</th>\n",
       "      <th>50%</th>\n",
       "      <th>75%</th>\n",
       "      <th>max</th>\n",
       "    </tr>\n",
       "    <tr>\n",
       "      <th>category</th>\n",
       "      <th></th>\n",
       "      <th></th>\n",
       "      <th></th>\n",
       "      <th></th>\n",
       "      <th></th>\n",
       "      <th></th>\n",
       "      <th></th>\n",
       "      <th></th>\n",
       "    </tr>\n",
       "  </thead>\n",
       "  <tbody>\n",
       "    <tr>\n",
       "      <th>Apps</th>\n",
       "      <td>1432.0</td>\n",
       "      <td>6928.015363</td>\n",
       "      <td>36339.445955</td>\n",
       "      <td>100.0</td>\n",
       "      <td>262.75</td>\n",
       "      <td>501.0</td>\n",
       "      <td>1520.25</td>\n",
       "      <td>1037809.0</td>\n",
       "    </tr>\n",
       "    <tr>\n",
       "      <th>Project We Love</th>\n",
       "      <td>23.0</td>\n",
       "      <td>423.260870</td>\n",
       "      <td>241.223815</td>\n",
       "      <td>65.0</td>\n",
       "      <td>268.00</td>\n",
       "      <td>350.0</td>\n",
       "      <td>524.00</td>\n",
       "      <td>929.0</td>\n",
       "    </tr>\n",
       "    <tr>\n",
       "      <th>Software</th>\n",
       "      <td>1860.0</td>\n",
       "      <td>5570.648387</td>\n",
       "      <td>33659.503835</td>\n",
       "      <td>4.0</td>\n",
       "      <td>50.00</td>\n",
       "      <td>178.5</td>\n",
       "      <td>705.25</td>\n",
       "      <td>1076960.0</td>\n",
       "    </tr>\n",
       "    <tr>\n",
       "      <th>Web</th>\n",
       "      <td>1994.0</td>\n",
       "      <td>5150.811936</td>\n",
       "      <td>121575.054734</td>\n",
       "      <td>4.0</td>\n",
       "      <td>26.00</td>\n",
       "      <td>101.0</td>\n",
       "      <td>399.75</td>\n",
       "      <td>5408916.0</td>\n",
       "    </tr>\n",
       "  </tbody>\n",
       "</table>\n",
       "</div>"
      ],
      "text/plain": [
       "                  count         mean            std    min     25%    50%  \\\n",
       "category                                                                    \n",
       "Apps             1432.0  6928.015363   36339.445955  100.0  262.75  501.0   \n",
       "Project We Love    23.0   423.260870     241.223815   65.0  268.00  350.0   \n",
       "Software         1860.0  5570.648387   33659.503835    4.0   50.00  178.5   \n",
       "Web              1994.0  5150.811936  121575.054734    4.0   26.00  101.0   \n",
       "\n",
       "                     75%        max  \n",
       "category                             \n",
       "Apps             1520.25  1037809.0  \n",
       "Project We Love   524.00      929.0  \n",
       "Software          705.25  1076960.0  \n",
       "Web               399.75  5408916.0  "
      ]
     },
     "execution_count": 3,
     "metadata": {},
     "output_type": "execute_result"
    }
   ],
   "source": [
    "df.groupby(['category'])['pledged'].describe()"
   ]
  },
  {
   "cell_type": "markdown",
   "metadata": {},
   "source": [
    "#### Goal Distribution"
   ]
  },
  {
   "cell_type": "code",
   "execution_count": 4,
   "metadata": {},
   "outputs": [
    {
     "data": {
      "text/html": [
       "<div>\n",
       "<style scoped>\n",
       "    .dataframe tbody tr th:only-of-type {\n",
       "        vertical-align: middle;\n",
       "    }\n",
       "\n",
       "    .dataframe tbody tr th {\n",
       "        vertical-align: top;\n",
       "    }\n",
       "\n",
       "    .dataframe thead th {\n",
       "        text-align: right;\n",
       "    }\n",
       "</style>\n",
       "<table border=\"1\" class=\"dataframe\">\n",
       "  <thead>\n",
       "    <tr style=\"text-align: right;\">\n",
       "      <th></th>\n",
       "      <th>count</th>\n",
       "      <th>mean</th>\n",
       "      <th>std</th>\n",
       "      <th>min</th>\n",
       "      <th>25%</th>\n",
       "      <th>50%</th>\n",
       "      <th>75%</th>\n",
       "      <th>max</th>\n",
       "    </tr>\n",
       "    <tr>\n",
       "      <th>category</th>\n",
       "      <th></th>\n",
       "      <th></th>\n",
       "      <th></th>\n",
       "      <th></th>\n",
       "      <th></th>\n",
       "      <th></th>\n",
       "      <th></th>\n",
       "      <th></th>\n",
       "    </tr>\n",
       "  </thead>\n",
       "  <tbody>\n",
       "    <tr>\n",
       "      <th>Apps</th>\n",
       "      <td>2117.0</td>\n",
       "      <td>50212.042985</td>\n",
       "      <td>202079.965513</td>\n",
       "      <td>1.0</td>\n",
       "      <td>8000.0</td>\n",
       "      <td>18000.0</td>\n",
       "      <td>40000.0</td>\n",
       "      <td>4000000.0</td>\n",
       "    </tr>\n",
       "    <tr>\n",
       "      <th>Project We Love</th>\n",
       "      <td>89.0</td>\n",
       "      <td>41340.134831</td>\n",
       "      <td>61916.414987</td>\n",
       "      <td>1000.0</td>\n",
       "      <td>12000.0</td>\n",
       "      <td>25000.0</td>\n",
       "      <td>50000.0</td>\n",
       "      <td>500000.0</td>\n",
       "    </tr>\n",
       "    <tr>\n",
       "      <th>Software</th>\n",
       "      <td>2034.0</td>\n",
       "      <td>72791.293019</td>\n",
       "      <td>415520.745535</td>\n",
       "      <td>1.0</td>\n",
       "      <td>5000.0</td>\n",
       "      <td>15000.0</td>\n",
       "      <td>40000.0</td>\n",
       "      <td>10000000.0</td>\n",
       "    </tr>\n",
       "    <tr>\n",
       "      <th>Web</th>\n",
       "      <td>2161.0</td>\n",
       "      <td>66619.674688</td>\n",
       "      <td>347035.833623</td>\n",
       "      <td>1.0</td>\n",
       "      <td>5000.0</td>\n",
       "      <td>12500.0</td>\n",
       "      <td>37000.0</td>\n",
       "      <td>10000000.0</td>\n",
       "    </tr>\n",
       "  </tbody>\n",
       "</table>\n",
       "</div>"
      ],
      "text/plain": [
       "                  count          mean            std     min      25%  \\\n",
       "category                                                                \n",
       "Apps             2117.0  50212.042985  202079.965513     1.0   8000.0   \n",
       "Project We Love    89.0  41340.134831   61916.414987  1000.0  12000.0   \n",
       "Software         2034.0  72791.293019  415520.745535     1.0   5000.0   \n",
       "Web              2161.0  66619.674688  347035.833623     1.0   5000.0   \n",
       "\n",
       "                     50%      75%         max  \n",
       "category                                       \n",
       "Apps             18000.0  40000.0   4000000.0  \n",
       "Project We Love  25000.0  50000.0    500000.0  \n",
       "Software         15000.0  40000.0  10000000.0  \n",
       "Web              12500.0  37000.0  10000000.0  "
      ]
     },
     "execution_count": 4,
     "metadata": {},
     "output_type": "execute_result"
    }
   ],
   "source": [
    "df.groupby(['category'])['goal'].describe()"
   ]
  },
  {
   "cell_type": "markdown",
   "metadata": {},
   "source": [
    "#### Backers Distribution"
   ]
  },
  {
   "cell_type": "code",
   "execution_count": 5,
   "metadata": {},
   "outputs": [
    {
     "data": {
      "text/html": [
       "<div>\n",
       "<style scoped>\n",
       "    .dataframe tbody tr th:only-of-type {\n",
       "        vertical-align: middle;\n",
       "    }\n",
       "\n",
       "    .dataframe tbody tr th {\n",
       "        vertical-align: top;\n",
       "    }\n",
       "\n",
       "    .dataframe thead th {\n",
       "        text-align: right;\n",
       "    }\n",
       "</style>\n",
       "<table border=\"1\" class=\"dataframe\">\n",
       "  <thead>\n",
       "    <tr style=\"text-align: right;\">\n",
       "      <th></th>\n",
       "      <th>count</th>\n",
       "      <th>unique</th>\n",
       "      <th>top</th>\n",
       "      <th>freq</th>\n",
       "    </tr>\n",
       "    <tr>\n",
       "      <th>category</th>\n",
       "      <th></th>\n",
       "      <th></th>\n",
       "      <th></th>\n",
       "      <th></th>\n",
       "    </tr>\n",
       "  </thead>\n",
       "  <tbody>\n",
       "    <tr>\n",
       "      <th>Apps</th>\n",
       "      <td>2260</td>\n",
       "      <td>271</td>\n",
       "      <td>6</td>\n",
       "      <td>122</td>\n",
       "    </tr>\n",
       "    <tr>\n",
       "      <th>Project We Love</th>\n",
       "      <td>100</td>\n",
       "      <td>78</td>\n",
       "      <td>11</td>\n",
       "      <td>5</td>\n",
       "    </tr>\n",
       "    <tr>\n",
       "      <th>Software</th>\n",
       "      <td>2332</td>\n",
       "      <td>305</td>\n",
       "      <td>2</td>\n",
       "      <td>253</td>\n",
       "    </tr>\n",
       "    <tr>\n",
       "      <th>Web</th>\n",
       "      <td>2357</td>\n",
       "      <td>204</td>\n",
       "      <td>1</td>\n",
       "      <td>417</td>\n",
       "    </tr>\n",
       "  </tbody>\n",
       "</table>\n",
       "</div>"
      ],
      "text/plain": [
       "                count unique top freq\n",
       "category                             \n",
       "Apps             2260    271   6  122\n",
       "Project We Love   100     78  11    5\n",
       "Software         2332    305   2  253\n",
       "Web              2357    204   1  417"
      ]
     },
     "execution_count": 5,
     "metadata": {},
     "output_type": "execute_result"
    }
   ],
   "source": [
    "df.groupby(['category'])['backers'].describe()"
   ]
  },
  {
   "cell_type": "markdown",
   "metadata": {},
   "source": [
    "## 2) Data Vizualisation"
   ]
  },
  {
   "cell_type": "code",
   "execution_count": 6,
   "metadata": {},
   "outputs": [
    {
     "name": "stdout",
     "output_type": "stream",
     "text": [
      "There are 7057 observations and 33 features in this dataset. \n",
      "\n"
     ]
    }
   ],
   "source": [
    "print(\"There are {} observations and {} features in this dataset. \\n\".format(df.shape[0],df.shape[1]))"
   ]
  },
  {
   "cell_type": "markdown",
   "metadata": {},
   "source": [
    "### Heat Map (using gmaps Google API)\n",
    "First we'll need to convert our strings of city/state and city/country into longitude/latitude coordinates that can be consumed by Google's gmaps API"
   ]
  },
  {
   "cell_type": "code",
   "execution_count": 7,
   "metadata": {},
   "outputs": [
    {
     "data": {
      "text/html": [
       "<div>\n",
       "<style scoped>\n",
       "    .dataframe tbody tr th:only-of-type {\n",
       "        vertical-align: middle;\n",
       "    }\n",
       "\n",
       "    .dataframe tbody tr th {\n",
       "        vertical-align: top;\n",
       "    }\n",
       "\n",
       "    .dataframe thead th {\n",
       "        text-align: right;\n",
       "    }\n",
       "</style>\n",
       "<table border=\"1\" class=\"dataframe\">\n",
       "  <thead>\n",
       "    <tr style=\"text-align: right;\">\n",
       "      <th></th>\n",
       "      <th>location</th>\n",
       "      <th>project</th>\n",
       "    </tr>\n",
       "  </thead>\n",
       "  <tbody>\n",
       "    <tr>\n",
       "      <th>6</th>\n",
       "      <td>London, UK</td>\n",
       "      <td>307</td>\n",
       "    </tr>\n",
       "    <tr>\n",
       "      <th>22</th>\n",
       "      <td>New York, NY</td>\n",
       "      <td>242</td>\n",
       "    </tr>\n",
       "    <tr>\n",
       "      <th>9</th>\n",
       "      <td>Los Angeles, CA</td>\n",
       "      <td>226</td>\n",
       "    </tr>\n",
       "    <tr>\n",
       "      <th>16</th>\n",
       "      <td>San Francisco, CA</td>\n",
       "      <td>148</td>\n",
       "    </tr>\n",
       "    <tr>\n",
       "      <th>0</th>\n",
       "      <td>Chicago, IL</td>\n",
       "      <td>125</td>\n",
       "    </tr>\n",
       "  </tbody>\n",
       "</table>\n",
       "</div>"
      ],
      "text/plain": [
       "             location  project\n",
       "6          London, UK      307\n",
       "22       New York, NY      242\n",
       "9     Los Angeles, CA      226\n",
       "16  San Francisco, CA      148\n",
       "0         Chicago, IL      125"
      ]
     },
     "execution_count": 7,
     "metadata": {},
     "output_type": "execute_result"
    }
   ],
   "source": [
    "grouped = df[~df['location'].isnull()].groupby(['location'],sort=False).count()['project'].reset_index()\n",
    "grouped.sort_values('project',ascending=False).head()"
   ]
  },
  {
   "cell_type": "markdown",
   "metadata": {},
   "source": [
    "http://www.geonames.org/enablefreewebservice"
   ]
  },
  {
   "cell_type": "code",
   "execution_count": 8,
   "metadata": {},
   "outputs": [],
   "source": [
    "import geopy\n",
    "from geopy import geocoders  \n",
    "\n",
    "def long_lat(city_state_str):\n",
    "    \n",
    "    try:\n",
    "        gn = geocoders.GeoNames(username='xxxxxxx') #<---------------------------------------------------------\n",
    "        location = gn.geocode(city_state_str)\n",
    "\n",
    "        long_lat = location[1]\n",
    "        return long_lat\n",
    "    except:\n",
    "        return None"
   ]
  },
  {
   "cell_type": "code",
   "execution_count": 9,
   "metadata": {},
   "outputs": [],
   "source": [
    "grouped['long_lat'] = grouped['location'].apply(long_lat)"
   ]
  },
  {
   "cell_type": "code",
   "execution_count": 10,
   "metadata": {},
   "outputs": [
    {
     "data": {
      "text/html": [
       "<div>\n",
       "<style scoped>\n",
       "    .dataframe tbody tr th:only-of-type {\n",
       "        vertical-align: middle;\n",
       "    }\n",
       "\n",
       "    .dataframe tbody tr th {\n",
       "        vertical-align: top;\n",
       "    }\n",
       "\n",
       "    .dataframe thead th {\n",
       "        text-align: right;\n",
       "    }\n",
       "</style>\n",
       "<table border=\"1\" class=\"dataframe\">\n",
       "  <thead>\n",
       "    <tr style=\"text-align: right;\">\n",
       "      <th></th>\n",
       "      <th>location</th>\n",
       "      <th>project</th>\n",
       "      <th>long_lat</th>\n",
       "      <th>latitude</th>\n",
       "      <th>longitude</th>\n",
       "    </tr>\n",
       "  </thead>\n",
       "  <tbody>\n",
       "    <tr>\n",
       "      <th>2</th>\n",
       "      <td>Orem, UT</td>\n",
       "      <td>4</td>\n",
       "      <td>(40.2969, -111.69465)</td>\n",
       "      <td>40.29690</td>\n",
       "      <td>-111.69465</td>\n",
       "    </tr>\n",
       "    <tr>\n",
       "      <th>3</th>\n",
       "      <td>Dallas, TX</td>\n",
       "      <td>64</td>\n",
       "      <td>(32.78306, -96.80667)</td>\n",
       "      <td>32.78306</td>\n",
       "      <td>-96.80667</td>\n",
       "    </tr>\n",
       "    <tr>\n",
       "      <th>4</th>\n",
       "      <td>Pittsburgh, PA</td>\n",
       "      <td>28</td>\n",
       "      <td>(40.44062, -79.99589)</td>\n",
       "      <td>40.44062</td>\n",
       "      <td>-79.99589</td>\n",
       "    </tr>\n",
       "    <tr>\n",
       "      <th>5</th>\n",
       "      <td>Mountain View, CA</td>\n",
       "      <td>10</td>\n",
       "      <td>(37.38605, -122.08385)</td>\n",
       "      <td>37.38605</td>\n",
       "      <td>-122.08385</td>\n",
       "    </tr>\n",
       "    <tr>\n",
       "      <th>6</th>\n",
       "      <td>London, UK</td>\n",
       "      <td>307</td>\n",
       "      <td>(51.50853, -0.12574)</td>\n",
       "      <td>51.50853</td>\n",
       "      <td>-0.12574</td>\n",
       "    </tr>\n",
       "  </tbody>\n",
       "</table>\n",
       "</div>"
      ],
      "text/plain": [
       "            location  project                long_lat  latitude  longitude\n",
       "2           Orem, UT        4   (40.2969, -111.69465)  40.29690 -111.69465\n",
       "3         Dallas, TX       64   (32.78306, -96.80667)  32.78306  -96.80667\n",
       "4     Pittsburgh, PA       28   (40.44062, -79.99589)  40.44062  -79.99589\n",
       "5  Mountain View, CA       10  (37.38605, -122.08385)  37.38605 -122.08385\n",
       "6         London, UK      307    (51.50853, -0.12574)  51.50853   -0.12574"
      ]
     },
     "execution_count": 10,
     "metadata": {},
     "output_type": "execute_result"
    }
   ],
   "source": [
    "grouped = grouped[~grouped['long_lat'].isnull()]\n",
    "\n",
    "lats,longs = [],[]\n",
    "for i in range(len(grouped)):\n",
    "    try:\n",
    "        lats.append(grouped['long_lat'].iloc[i][0])\n",
    "        longs.append(grouped['long_lat'].iloc[i][1])\n",
    "    except:\n",
    "        lats.append(None)\n",
    "        longs.append(None)\n",
    "\n",
    "grouped['latitude'] = lats\n",
    "grouped['longitude'] = longs\n",
    "\n",
    "grouped.head()"
   ]
  },
  {
   "cell_type": "code",
   "execution_count": 11,
   "metadata": {},
   "outputs": [],
   "source": [
    "#grouped.to_csv('kickstarter_worldmap_db',sep='\\t',index = False)\n",
    "#grouped = pd.read_csv('kickstarter_worldmap_db',sep='\\t')"
   ]
  },
  {
   "cell_type": "markdown",
   "metadata": {},
   "source": [
    "https://jupyter-gmaps.readthedocs.io/en/latest/tutorial.html"
   ]
  },
  {
   "cell_type": "code",
   "execution_count": 12,
   "metadata": {},
   "outputs": [],
   "source": [
    "import gmaps\n",
    "\n",
    "gmaps.configure(api_key='xxxxxxxxxxxxxxxxxxxxxxxxxxxxxxxxxxxx') #<------------------------------------------------"
   ]
  },
  {
   "cell_type": "code",
   "execution_count": 13,
   "metadata": {},
   "outputs": [
    {
     "data": {
      "application/vnd.jupyter.widget-view+json": {
       "model_id": "57adfab78ba349dd98789ed4289278cc",
       "version_major": 2,
       "version_minor": 0
      },
      "text/html": [
       "<p>Failed to display Jupyter Widget of type <code>Figure</code>.</p>\n",
       "<p>\n",
       "  If you're reading this message in the Jupyter Notebook or JupyterLab Notebook, it may mean\n",
       "  that the widgets JavaScript is still loading. If this message persists, it\n",
       "  likely means that the widgets JavaScript library is either not installed or\n",
       "  not enabled. See the <a href=\"https://ipywidgets.readthedocs.io/en/stable/user_install.html\">Jupyter\n",
       "  Widgets Documentation</a> for setup instructions.\n",
       "</p>\n",
       "<p>\n",
       "  If you're reading this message in another frontend (for example, a static\n",
       "  rendering on GitHub or <a href=\"https://nbviewer.jupyter.org/\">NBViewer</a>),\n",
       "  it may mean that your frontend doesn't currently support widgets.\n",
       "</p>\n"
      ],
      "text/plain": [
       "Figure(layout=FigureLayout(border='0px solid black', height='400px', padding='0px', width='1200px'))"
      ]
     },
     "metadata": {},
     "output_type": "display_data"
    }
   ],
   "source": [
    "locations = grouped[['latitude', 'longitude']]\n",
    "weights = grouped['project']\n",
    "\n",
    "figure_layout = {\n",
    "    'width': '1200px',\n",
    "    'height': '400px',\n",
    "    'border': '0px solid black',\n",
    "    'padding': '0px'\n",
    "}\n",
    "fig = gmaps.figure(map_type='HYBRID',layout=figure_layout)\n",
    "\n",
    "heatmap_layer = gmaps.heatmap_layer(locations, weights=weights)\n",
    "fig.add_layer(heatmap_layer)\n",
    "fig"
   ]
  },
  {
   "cell_type": "code",
   "execution_count": 30,
   "metadata": {},
   "outputs": [],
   "source": [
    "heatmap_layer.max_intensity = 25\n",
    "heatmap_layer.point_radius = 4"
   ]
  },
  {
   "cell_type": "markdown",
   "metadata": {},
   "source": [
    "### Word Cloud\n",
    "https://www.datacamp.com/community/tutorials/wordcloud-python"
   ]
  },
  {
   "cell_type": "code",
   "execution_count": 31,
   "metadata": {},
   "outputs": [],
   "source": [
    "import wordcloud\n",
    "from PIL import Image\n",
    "from wordcloud import WordCloud, STOPWORDS, ImageColorGenerator\n",
    "#import matplotlib.pyplot as plt\n",
    "#% matplotlib inline"
   ]
  },
  {
   "cell_type": "code",
   "execution_count": 32,
   "metadata": {},
   "outputs": [],
   "source": [
    "# Fix 'pyLDAvis_topics_top3_clean' column by converting to an actual list\n",
    "def str_to_list(x):\n",
    "    try:\n",
    "        x = re.sub(',','',x)\n",
    "        x = re.sub(\"'\", \"\",x)\n",
    "        return x[1:-1].split()\n",
    "    except:\n",
    "        return x\n",
    "\n",
    "df['pyLDAvis_topics_top3_clean'] = df['pyLDAvis_topics_top3_clean'].apply(str_to_list)"
   ]
  },
  {
   "cell_type": "code",
   "execution_count": 33,
   "metadata": {},
   "outputs": [],
   "source": [
    "# Create total corpus across all Kickstarter categories\n",
    "\n",
    "total_corpus = []\n",
    "for i in range(len(df)): \n",
    "    total_corpus += df['pyLDAvis_topics_top3_clean'].iloc[i]\n",
    "    \n",
    "corpus_text = \"\"\n",
    "for word in total_corpus:\n",
    "    corpus_text += word+' '"
   ]
  },
  {
   "cell_type": "code",
   "execution_count": 34,
   "metadata": {},
   "outputs": [
    {
     "data": {
      "image/png": "[encoded data removed]",
      "text/plain": [
       "<Figure size 432x288 with 1 Axes>"
      ]
     },
     "metadata": {},
     "output_type": "display_data"
    }
   ],
   "source": [
    "# Test with one project\n",
    "text = corpus_text\n",
    "\n",
    "# Generate word cloude image\n",
    "wordcloud = WordCloud(max_font_size=80,\n",
    "                     max_words=2000,\n",
    "                     background_color=\"white\",\n",
    "                     width=400, \n",
    "                     height=200,\n",
    "                     scale=2).generate(text)\n",
    "\n",
    "# Display image\n",
    "plt.imshow(wordcloud, interpolation='bilinear')\n",
    "plt.axis(\"off\")\n",
    "plt.show()"
   ]
  },
  {
   "cell_type": "markdown",
   "metadata": {},
   "source": [
    "#### Future reading\n",
    "Magnetic bubble charts (similar to Apple Music's genre selector):\n",
    "\n",
    "https://github.com/efremidze/Magnetic"
   ]
  },
  {
   "cell_type": "markdown",
   "metadata": {},
   "source": [
    "### Interactive chart with Bokeh"
   ]
  },
  {
   "cell_type": "code",
   "execution_count": 35,
   "metadata": {},
   "outputs": [],
   "source": [
    "# Convert start/end_dt to datetime dates\n",
    "df['funding_end_dt'] = df['funding_end_dt'].apply(lambda x: datetime.strptime(x, '%Y-%m-%d').date())\n",
    "df['funding_start_dt'] = df['funding_start_dt'].apply(lambda x: datetime.strptime(x, '%Y-%m-%d').date())"
   ]
  },
  {
   "cell_type": "code",
   "execution_count": 36,
   "metadata": {},
   "outputs": [],
   "source": [
    "df['ending'] = df['funding_end_dt'].apply(lambda x: x.strftime(\"%Y\")+'-'+x.strftime(\"%m\"))"
   ]
  },
  {
   "cell_type": "code",
   "execution_count": 37,
   "metadata": {},
   "outputs": [],
   "source": [
    "df['topics'] = df['pyLDAvis_topics_top3_clean']"
   ]
  },
  {
   "cell_type": "code",
   "execution_count": 38,
   "metadata": {},
   "outputs": [],
   "source": [
    "# Reduce DataFrame to keep relevant columns only\n",
    "df['successful_flg'] = df['successful'].apply(lambda x: 1 if x == True else 0)\n",
    "df['tag_flg'] = df['tag'].apply(lambda x: 1 if x=='Project We Love' else 0)\n",
    "DA_df = df[['project','ending','backers','pledged','goal','pct_funded','successful','tag','category','topics','successful_flg','tag_flg']]"
   ]
  },
  {
   "cell_type": "code",
   "execution_count": 39,
   "metadata": {},
   "outputs": [
    {
     "name": "stdout",
     "output_type": "stream",
     "text": [
      "<class 'pandas.core.frame.DataFrame'>\n",
      "RangeIndex: 7057 entries, 0 to 7056\n",
      "Data columns (total 12 columns):\n",
      "project           7056 non-null object\n",
      "ending            7057 non-null object\n",
      "backers           7054 non-null object\n",
      "pledged           5313 non-null float64\n",
      "goal              6406 non-null float64\n",
      "pct_funded        4857 non-null float64\n",
      "successful        7057 non-null bool\n",
      "tag               147 non-null object\n",
      "category          7052 non-null object\n",
      "topics            7057 non-null object\n",
      "successful_flg    7057 non-null int64\n",
      "tag_flg           7057 non-null int64\n",
      "dtypes: bool(1), float64(3), int64(2), object(6)\n",
      "memory usage: 613.4+ KB\n"
     ]
    }
   ],
   "source": [
    "DA_df.info()"
   ]
  },
  {
   "cell_type": "code",
   "execution_count": 40,
   "metadata": {},
   "outputs": [],
   "source": [
    "# Get rid of records with None values\n",
    "DA_df = DA_df[~DA_df['goal'].isnull()]\n",
    "DA_df = DA_df[~DA_df['pledged'].isnull()]\n",
    "DA_df = DA_df[~DA_df['category'].isnull()]\n",
    "DA_df = DA_df[~DA_df['project'].isnull()]\n",
    "DA_df = DA_df[~DA_df['backers'].isnull()]\n",
    "\n",
    "# Get rid of records that have tag stored in category\n",
    "DA_df = DA_df[DA_df['category'] != 'Project We Love']"
   ]
  },
  {
   "cell_type": "code",
   "execution_count": 41,
   "metadata": {},
   "outputs": [
    {
     "data": {
      "text/html": [
       "<div>\n",
       "<style scoped>\n",
       "    .dataframe tbody tr th:only-of-type {\n",
       "        vertical-align: middle;\n",
       "    }\n",
       "\n",
       "    .dataframe tbody tr th {\n",
       "        vertical-align: top;\n",
       "    }\n",
       "\n",
       "    .dataframe thead th {\n",
       "        text-align: right;\n",
       "    }\n",
       "</style>\n",
       "<table border=\"1\" class=\"dataframe\">\n",
       "  <thead>\n",
       "    <tr style=\"text-align: right;\">\n",
       "      <th></th>\n",
       "      <th>project</th>\n",
       "      <th>ending</th>\n",
       "      <th>backers</th>\n",
       "      <th>pledged</th>\n",
       "      <th>goal</th>\n",
       "      <th>pct_funded</th>\n",
       "      <th>successful</th>\n",
       "      <th>tag</th>\n",
       "      <th>topics</th>\n",
       "      <th>successful_flg</th>\n",
       "      <th>tag_flg</th>\n",
       "    </tr>\n",
       "    <tr>\n",
       "      <th>category</th>\n",
       "      <th></th>\n",
       "      <th></th>\n",
       "      <th></th>\n",
       "      <th></th>\n",
       "      <th></th>\n",
       "      <th></th>\n",
       "      <th></th>\n",
       "      <th></th>\n",
       "      <th></th>\n",
       "      <th></th>\n",
       "      <th></th>\n",
       "    </tr>\n",
       "  </thead>\n",
       "  <tbody>\n",
       "    <tr>\n",
       "      <th>Apps</th>\n",
       "      <td>1353</td>\n",
       "      <td>1353</td>\n",
       "      <td>1353</td>\n",
       "      <td>1353</td>\n",
       "      <td>1353</td>\n",
       "      <td>1353</td>\n",
       "      <td>1353</td>\n",
       "      <td>58</td>\n",
       "      <td>1353</td>\n",
       "      <td>1353</td>\n",
       "      <td>1353</td>\n",
       "    </tr>\n",
       "    <tr>\n",
       "      <th>Software</th>\n",
       "      <td>1625</td>\n",
       "      <td>1625</td>\n",
       "      <td>1625</td>\n",
       "      <td>1625</td>\n",
       "      <td>1625</td>\n",
       "      <td>1625</td>\n",
       "      <td>1625</td>\n",
       "      <td>64</td>\n",
       "      <td>1625</td>\n",
       "      <td>1625</td>\n",
       "      <td>1625</td>\n",
       "    </tr>\n",
       "    <tr>\n",
       "      <th>Web</th>\n",
       "      <td>1853</td>\n",
       "      <td>1853</td>\n",
       "      <td>1853</td>\n",
       "      <td>1853</td>\n",
       "      <td>1853</td>\n",
       "      <td>1853</td>\n",
       "      <td>1853</td>\n",
       "      <td>25</td>\n",
       "      <td>1853</td>\n",
       "      <td>1853</td>\n",
       "      <td>1853</td>\n",
       "    </tr>\n",
       "  </tbody>\n",
       "</table>\n",
       "</div>"
      ],
      "text/plain": [
       "          project  ending  backers  pledged  goal  pct_funded  successful  \\\n",
       "category                                                                    \n",
       "Apps         1353    1353     1353     1353  1353        1353        1353   \n",
       "Software     1625    1625     1625     1625  1625        1625        1625   \n",
       "Web          1853    1853     1853     1853  1853        1853        1853   \n",
       "\n",
       "          tag  topics  successful_flg  tag_flg  \n",
       "category                                        \n",
       "Apps       58    1353            1353     1353  \n",
       "Software   64    1625            1625     1625  \n",
       "Web        25    1853            1853     1853  "
      ]
     },
     "execution_count": 41,
     "metadata": {},
     "output_type": "execute_result"
    }
   ],
   "source": [
    "DA_df.groupby(['category']).count()"
   ]
  },
  {
   "cell_type": "markdown",
   "metadata": {},
   "source": [
    "## Plot with Bokeh"
   ]
  },
  {
   "cell_type": "code",
   "execution_count": 42,
   "metadata": {},
   "outputs": [],
   "source": [
    "import bokeh\n",
    "from bokeh.plotting import figure\n",
    "from bokeh.io import output_file,show,save\n",
    "from bokeh.models import PanTool, ResetTool, HoverTool, ColumnDataSource, Range1d\n",
    "from bokeh.layouts import column\n",
    "from bokeh.models.annotations import Label"
   ]
  },
  {
   "cell_type": "code",
   "execution_count": 43,
   "metadata": {},
   "outputs": [
    {
     "data": {
      "text/plain": [
       "'/Users/usamamostafa/Code/kickstarter_trend_spotter.html'"
      ]
     },
     "execution_count": 43,
     "metadata": {},
     "output_type": "execute_result"
    }
   ],
   "source": [
    "# Define colormap and normalize size of bubble\n",
    "colormap = {'Web':'#34495E','Apps':'crimson','Software':'goldenrod'}\n",
    "DA_df['color'] = [colormap[x] for x in DA_df['category']]\n",
    "DA_df['backers'] = DA_df['backers'].apply(lambda x: int(x))\n",
    "DA_df['pledged'] = DA_df['pledged'].apply(lambda x: int(x))\n",
    "DA_df['pct_funded_'] = DA_df['pct_funded'].apply(lambda x: int(x*100))\n",
    "DA_df['pledged_'] = DA_df['pledged'].apply(lambda x: int(x/1000))\n",
    "DA_df['backers_'] = DA_df['backers'].apply(lambda x: max(3,int(x/200)))\n",
    "DA_df['mth'] = DA_df['ending'].apply(lambda x: int(x[:4])+int(x[-2:])/12)\n",
    "\n",
    "# Create Column DataSource\n",
    "web = ColumnDataSource(DA_df[DA_df['category'] == 'Web'])\n",
    "apps = ColumnDataSource(DA_df[DA_df['category'] == 'Apps'])\n",
    "software = ColumnDataSource(DA_df[DA_df['category'] == 'Software'])\n",
    "\n",
    "# Prep output file\n",
    "output_file('kickstarter_trend_spotter.html')\n",
    "\n",
    "# Create figure object\n",
    "f = figure(plot_height=650, \n",
    "           plot_width=1100,\n",
    "           background_fill_color = \"grey\",\n",
    "           background_fill_alpha=0.000,\n",
    "           y_axis_type=\"log\",\n",
    "           x_axis_type=\"log\")\n",
    "\n",
    "# Set x,y range bounds\n",
    "#f.x_range = Range1d(0,max(DA_df['pct_funded_']))\n",
    "#f.y_range = Range1d(0,max(DA_df['pledged_']))\n",
    "\n",
    "# Create glyphs\n",
    "f.circle(x = \"pct_funded_\",\n",
    "         y = \"pledged_\",\n",
    "         size = \"backers_\",\n",
    "         fill_alpha=0.7,\n",
    "         color = \"color\", \n",
    "         legend = 'Web',\n",
    "         source = web)\n",
    "\n",
    "f.circle(x = \"pct_funded_\",\n",
    "         y = \"pledged_\",\n",
    "         size = \"backers_\",\n",
    "         fill_alpha=0.7,\n",
    "         color = \"color\", \n",
    "         legend = 'Apps',\n",
    "         source = apps)\n",
    "\n",
    "f.circle(x = \"pct_funded_\",\n",
    "         y = \"pledged_\",\n",
    "         size = \"backers_\",\n",
    "         fill_alpha=0.7,\n",
    "         color = \"color\", \n",
    "         legend = 'Software',\n",
    "         source = software)\n",
    "\n",
    "# Style the legend\n",
    "f.legend.location = 'top_right'\n",
    "#f.legend.background_fill_alpha = 0.3\n",
    "f.legend.border_line_color = None\n",
    "f.legend.margin = 20\n",
    "f.legend.label_text_color = 'grey'\n",
    "\n",
    "# Style the tools\n",
    "#hover = HoverTool(tooltips=[(\"Topic\",\"@topic\"),(\"Pledged\",\"@pledged\"),(\"Backers\",\"@backers\")]) #(\"Project\",\"@project\"),\n",
    "hover = HoverTool(tooltips=\"\"\"\n",
    "<div>\n",
    "    <div>\n",
    "        <span style=\"font-size: 15px; font-weight: bold; color: #34495E;\">@project</span>\n",
    "    </div>\n",
    "    <div>\n",
    "        <span style=\"font-size: 10px; color: #7F8C8D;\">Pledged: @pledged</span><br>\n",
    "        <span style=\"font-size: 10px; color: #7F8C8D;\">Backers: @backers</span><br>\n",
    "        <span style=\"font-size: 10px; color: #7F8C8D;\">Goal: @goal</span><br>\n",
    "        <span style=\"font-size: 10px; color: #7F8C8D;\">% Funded: @pct_funded</span><br>\n",
    "        <span style=\"font-size: 10px; color: #7F8C8D;\">Topics: @topics</span>\n",
    "    </div>\n",
    "</div>\n",
    "\"\"\")\n",
    "\n",
    "f.add_tools(hover)\n",
    "f.toolbar_location = 'below'\n",
    "f.toolbar.logo = None # removes Bokeh logo\n",
    "\n",
    "# Style the title\n",
    "f.title.text = 'Kickstarter Trend Spotter' \n",
    "f.title.text_font_size = '44px'\n",
    "#f.title.align = 'center'\n",
    "\n",
    "# Style the axes\n",
    "f.axis.minor_tick_line_color = 'grey'\n",
    "f.xaxis.axis_label = '% Funded relative to goal'\n",
    "f.yaxis.axis_label = 'Peldged Amount ($K)'\n",
    "f.axis.axis_label_text_color = 'black'\n",
    "f.axis.major_label_text_color = 'grey'\n",
    "f.axis.axis_label_text_font_size = '12px'\n",
    "f.axis.axis_label_text_align = 'right'\n",
    "\n",
    "# Style the grid\n",
    "f.grid.grid_line_dash = [5,3]\n",
    "\n",
    "# Add Year-Month label\n",
    "import calendar\n",
    "yr_mth = \"2017-12\"\n",
    "yr = yr_mth[:4]\n",
    "mth = yr_mth[-2:]\n",
    "label = Label(x = 15000,\n",
    "              y = 1,\n",
    "              text = calendar.month_abbr[int(mth)]+' '+yr,\n",
    "              text_font_size='50pt',\n",
    "              text_color='#eeeeee',\n",
    "              render_mode=\"css\")\n",
    "f.add_layout(label)\n",
    "\n",
    "# Merge plots inisde a gridplot layout\n",
    "#F = column(f,f)\n",
    "\n",
    "# Write plot in figure object\n",
    "save(f)"
   ]
  },
  {
   "cell_type": "code",
   "execution_count": null,
   "metadata": {
    "scrolled": false
   },
   "outputs": [],
   "source": [
    "#dir(f.grid)\n",
    "import bokeh.models\n",
    "dir(bokeh.models.tools)"
   ]
  }
 ],
 "metadata": {
  "kernelspec": {
   "display_name": "Python 3",
   "language": "python",
   "name": "python3"
  },
  "language_info": {
   "codemirror_mode": {
    "name": "ipython",
    "version": 3
   },
   "file_extension": ".py",
   "mimetype": "text/x-python",
   "name": "python",
   "nbconvert_exporter": "python",
   "pygments_lexer": "ipython3",
   "version": "3.6.4"
  }
 },
 "nbformat": 4,
 "nbformat_minor": 2
}
